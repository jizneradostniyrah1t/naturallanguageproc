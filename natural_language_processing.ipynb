{
 "cells": [
  {
   "cell_type": "markdown",
   "id": "36dcec56-bcfe-4932-9704-5c86b9a0aed9",
   "metadata": {},
   "source": [
    "<H1><center>Обработка естественного языка</center></H1>"
   ]
  },
  {
   "cell_type": "markdown",
   "id": "fcb46426-ca1e-4546-8b76-1065af74d4a5",
   "metadata": {},
   "source": [
    "<H2>Введение</H2>"
   ]
  },
  {
   "cell_type": "markdown",
   "id": "d9f5ca8f-990d-4b02-945d-54c76dfd4f47",
   "metadata": {},
   "source": [
    "В данной лабораторной работе мы рассмотрим одну из моделей для обработки естественного языка - rubert-tiny  \n",
    "Rubert-tiny является уменьшенной версией BERT, ориентированной всего на 2 языка: русский и английский (отсюда и название)"
   ]
  },
  {
   "cell_type": "markdown",
   "id": "a0da5d33-b38d-49be-a070-9fd71f43da31",
   "metadata": {},
   "source": [
    "В качестве примера вам будет дан код обучения модели на датасете CoLA (Corpus of Linguistic Acceptability)  \n",
    "Входными данными в этом датасете являются различные предложения на английском языке, а предсказывается правильность их построения"
   ]
  },
  {
   "cell_type": "markdown",
   "id": "e15fbaa3-bbe9-445a-b615-193d6c696304",
   "metadata": {},
   "source": [
    "Затем вы должны будете самостоятельно обучить эту же (можно другую) модель на датасете с отзывами к фильмам  \n",
    "Обученная модель должна определять тип отзыва - положительный или отрицательный"
   ]
  },
  {
   "cell_type": "markdown",
   "id": "03f92b8d-01c7-4191-b791-a92ec4bbdd60",
   "metadata": {},
   "source": [
    "<H4>Цели</H4>"
   ]
  },
  {
   "cell_type": "markdown",
   "id": "4fc8a3a9-9fdf-47ec-b23b-1bdb15b4c1b5",
   "metadata": {},
   "source": [
    "- Изучить принципы обработки естественного языка\n",
    "- Обучить нейронную сеть rubert-tiny определять тип отзыва на фильм (положительный/отрицательный)"
   ]
  },
  {
   "cell_type": "markdown",
   "id": "5d3ad922-0dec-4ed2-98aa-766e4e85ef1b",
   "metadata": {},
   "source": [
    "<H4>Задачи</H4>"
   ]
  },
  {
   "cell_type": "markdown",
   "id": "fa457897-ad82-415f-952d-09de8101828d",
   "metadata": {},
   "source": [
    "<H4>Обозначения</H4>"
   ]
  },
  {
   "cell_type": "markdown",
   "id": "47278dd6-4207-4b54-be7c-7362d9bd2117",
   "metadata": {},
   "source": [
    "\\[1] ⭐ - Задание (звездочки - баллы, число - номер задания)  \n",
    "\\[1] 💫 - Конец задания"
   ]
  },
  {
   "cell_type": "markdown",
   "id": "e356ac3f-2094-472e-8a1e-1e3deee59a48",
   "metadata": {},
   "source": [
    "<H2>Обучение rubert-tiny на датасете CoLA</H2>"
   ]
  },
  {
   "cell_type": "markdown",
   "id": "f6b1ab53-8d4b-44b3-923f-826345f8ec73",
   "metadata": {},
   "source": [
    "<H3>1. Подготовка данных</H3>"
   ]
  },
  {
   "cell_type": "markdown",
   "id": "c1bdfacd-277f-4f4b-bdd1-aabcd243e233",
   "metadata": {},
   "source": [
    "Как обычно, наша первая задача - подготовить данные для обучения  \n",
    "Считаем таблицу \"сырых\" текстов и посмотрим, что в ней лежит"
   ]
  },
  {
   "cell_type": "code",
   "execution_count": 1,
   "id": "4074f5ce-b3ae-45fd-a571-4c0f0cd61c43",
   "metadata": {},
   "outputs": [],
   "source": [
    "import pandas as pd\n",
    "\n",
    "# Загружаем dataset в pandas dataframe.\n",
    "df = pd.read_csv(\"./data/cola_public/raw/in_domain_train.tsv\", delimiter='\\t', header=None, names=['sentence_source', 'label', 'label_notes', 'sentence'])\n",
    "\n",
    "sentences = df['sentence'].values\n",
    "labels = df['label'].values"
   ]
  },
  {
   "cell_type": "code",
   "execution_count": 2,
   "id": "49aae3e4-f4c3-4e14-808a-8890973a058f",
   "metadata": {},
   "outputs": [
    {
     "name": "stdout",
     "output_type": "stream",
     "text": [
      "Number of training sentences: 8,551\n",
      "\n",
      "     sentence_source  label label_notes  \\\n",
      "87              gj04      1         NaN   \n",
      "1483            r-67      1         NaN   \n",
      "4610            ks08      1         NaN   \n",
      "6279            c_13      1         NaN   \n",
      "4559            ks08      0           *   \n",
      "3131            l-93      1         NaN   \n",
      "6544            g_81      0           *   \n",
      "6122            c_13      1         NaN   \n",
      "6042            c_13      0           *   \n",
      "6412            d_98      1         NaN   \n",
      "\n",
      "                                               sentence  \n",
      "87                             The tiger bled to death.  \n",
      "1483       A review came out yesterday of this article.  \n",
      "4610             John has chosen Bill for the position.  \n",
      "6279         To improve myself is a goal for next year.  \n",
      "4559          It has rains every day for the last week.  \n",
      "3131                                      Paul exhaled.  \n",
      "6544  The table, I put Kim on which supported the book.  \n",
      "6122                                    She was kissed.  \n",
      "6042                       I wanted if he should leave.  \n",
      "6412  Every restaurant that advertises in any of the...  \n",
      "                                               sentence  label\n",
      "3432                           Man the ball kicked the.      0\n",
      "2516              This list includes my name on itself.      0\n",
      "1455  Her efficient looking of the answer up pleased...      0\n",
      "1471  Which packages is it possible that Sam didn't ...      0\n",
      "23                              We yelled Harry hoarse.      0\n"
     ]
    }
   ],
   "source": [
    "# Выводим число тренировочных предложений.\n",
    "print('Number of training sentences: {:,}\\n'.format(df.shape[0]))\n",
    "\n",
    "# Выводим случайные 10 рядов из таблички.\n",
    "print(df.sample(10))\n",
    "\n",
    "# Выводим 5 грамматически неверных предложений.\n",
    "print(df.loc[df.label == 0].sample(5)[['sentence', 'label']])"
   ]
  },
  {
   "cell_type": "markdown",
   "id": "e90ffa23-4521-4f12-a72a-aa42ac2e09af",
   "metadata": {},
   "source": [
    "<br>\n",
    "<H4>1.1. Токенизация</H4>"
   ]
  },
  {
   "cell_type": "markdown",
   "id": "8041f0ca-39de-4d26-998d-1cb07a310fa1",
   "metadata": {},
   "source": [
    "Теперь входные тексты нужно привести к формату, который может прочитать языковая модель  \n",
    "В этом нам поможет другая модель - токенизатор  "
   ]
  },
  {
   "cell_type": "code",
   "execution_count": 3,
   "id": "0b7ba46c-3640-4bdf-8500-12aa81c888e7",
   "metadata": {},
   "outputs": [],
   "source": [
    "from transformers import BertTokenizer\n",
    "\n",
    "tokenizer = BertTokenizer.from_pretrained('./models/rubert-tiny', do_lower_case=True)"
   ]
  },
  {
   "cell_type": "markdown",
   "id": "dde13886-0dc4-4845-9df8-cc5c40ab3a20",
   "metadata": {},
   "source": [
    "<br>Сначала токенизатор разбивает текст на составные части (токены), которые есть в его словаре  \n",
    "Токеном может быть слово, часть слова или символ, а также одно из специальных обозначений, используемых при обучении  "
   ]
  },
  {
   "cell_type": "code",
   "execution_count": 4,
   "id": "13bd4b2a-8ccf-45a4-829f-d79f0422bbf7",
   "metadata": {},
   "outputs": [
    {
     "name": "stdout",
     "output_type": "stream",
     "text": [
      "Original: Our friends won't buy this analysis, let alone the next one we propose.\n",
      "Tokenized:  ['our', 'friends', 'won', \"'\", 't', 'buy', 'this', 'analysis', ',', 'let', 'alone', 'the', 'next', 'one', 'we', 'propose', '.']\n"
     ]
    }
   ],
   "source": [
    "sentence = sentences[0]\n",
    "print('Original:', sentence)                                 # Вывести оригинальное предложение.\n",
    "print('Tokenized: ', tokenizer.tokenize(sentence))           # Вывести предложение, разбитое на отдельные токены из словаря."
   ]
  },
  {
   "cell_type": "markdown",
   "id": "20731552-edde-4dc3-9cbb-1b8c906b8dfc",
   "metadata": {},
   "source": [
    "<br>Словарь нашего токенизатора находится в файле ./models/rubert-tiny/vocab.txt"
   ]
  },
  {
   "cell_type": "markdown",
   "id": "b311ea50-5001-42c6-a0f8-705742415c18",
   "metadata": {},
   "source": [
    "<center>[1] ⭐</center>"
   ]
  },
  {
   "cell_type": "markdown",
   "id": "63e1f30d-75a7-4f5d-b9ae-b4f7ffb7f393",
   "metadata": {},
   "source": [
    "Откройте словарь токенизатора и найдите в нем:\n",
    "- русское слово\n",
    "- часть русского слова\n",
    "- специальный токен\n",
    "\n",
    "⭐ Объясните значение специального токена  \n",
    "\n",
    "P.S. Все 3 токена должны отличаться от токенов ваших соседей"
   ]
  },
  {
   "cell_type": "markdown",
   "id": "5f098e17-4bd9-4cb7-8d51-4601a88ec19e",
   "metadata": {},
   "source": [
    "журнала\n",
    "дзе\n",
    "[CLS]"
   ]
  },
  {
   "cell_type": "markdown",
   "id": "336904ac-18ce-4889-b08f-a833bcc35847",
   "metadata": {},
   "source": [
    "<center>[1] 💫</center>"
   ]
  },
  {
   "cell_type": "markdown",
   "id": "734bdc0d-f4d2-4108-9e27-21ee74b9ab4f",
   "metadata": {},
   "source": [
    "Токены затем конвертируются в их идентификаторы, которые уже можно подавать на вход языковой модели"
   ]
  },
  {
   "cell_type": "code",
   "execution_count": 5,
   "id": "873d34bc-a688-46cc-bdfd-feccecd88e0a",
   "metadata": {},
   "outputs": [
    {
     "name": "stdout",
     "output_type": "stream",
     "text": [
      "Token IDs:  [4589, 6597, 1427, 11, 87, 15085, 881, 5356, 16, 2703, 7421, 531, 2624, 835, 1798, 9529, 18]\n"
     ]
    }
   ],
   "source": [
    "print('Token IDs: ', tokenizer.convert_tokens_to_ids(tokenizer.tokenize(sentence)))       # Вывести предложение, разбитое на номера токенов в словаре."
   ]
  },
  {
   "cell_type": "markdown",
   "id": "29638ec7-963c-4bd0-bd81-fc1a49f948c7",
   "metadata": {},
   "source": [
    "<br>То же самое можно сделать в один шаг, для всего датасета и с добавлением специальных токенов"
   ]
  },
  {
   "cell_type": "code",
   "execution_count": 6,
   "id": "f1ed818d-e013-4117-9d42-cee866b7c9c8",
   "metadata": {},
   "outputs": [
    {
     "name": "stdout",
     "output_type": "stream",
     "text": [
      "Token IDs:\n",
      "tensor([[   2, 4589, 6597,  ...,    0,    0,    0],\n",
      "        [   2,  835, 1052,  ...,    0,    0,    0],\n",
      "        [   2,  835, 1052,  ...,    0,    0,    0],\n",
      "        ...,\n",
      "        [   2,  683,  550,  ...,    0,    0,    0],\n",
      "        [   2,   76,  768,  ...,    0,    0,    0],\n",
      "        [   2, 2376,  813,  ...,    0,    0,    0]])\n",
      "Attention masks:\n",
      "tensor([[1, 1, 1,  ..., 0, 0, 0],\n",
      "        [1, 1, 1,  ..., 0, 0, 0],\n",
      "        [1, 1, 1,  ..., 0, 0, 0],\n",
      "        ...,\n",
      "        [1, 1, 1,  ..., 0, 0, 0],\n",
      "        [1, 1, 1,  ..., 0, 0, 0],\n",
      "        [1, 1, 1,  ..., 0, 0, 0]])\n"
     ]
    }
   ],
   "source": [
    "encoded_dict = tokenizer.batch_encode_plus(\n",
    "    list(sentences),                           # Текст для токенизации.\n",
    "    add_special_tokens=True,                   # Добавляем '[CLS]' и '[SEP]'\n",
    "    max_length=64,                             # Дополняем [PAD] или обрезаем текст до 64 токенов.\n",
    "    padding='max_length',\n",
    "    truncation=True,\n",
    "    return_attention_mask=True,                # Возвращаем также attn. masks.\n",
    "    return_tensors='pt',                       # Возвращаем в виде тензоров pytorch.\n",
    ")\n",
    "\n",
    "print(f'Token IDs:\\n{encoded_dict[\"input_ids\"]}')\n",
    "print(f'Attention masks:\\n{encoded_dict[\"attention_mask\"]}')"
   ]
  },
  {
   "cell_type": "markdown",
   "id": "1f306ec0-fa51-42d0-a19d-fd0dfc1d47ef",
   "metadata": {},
   "source": [
    "<center>[2] ⭐</center>"
   ]
  },
  {
   "cell_type": "markdown",
   "id": "ac5ec092-c2d7-42b7-abbc-10144cbccb3b",
   "metadata": {},
   "source": [
    "Закодируйте свой отзыв на фильм с помощью токенизатора  \n",
    "Используйте <code>encode_plus</code> вместо <code>batch_encode_plus</code>, чтобы передать один текст, а не список\n",
    "\n",
    "Выведите токены (не их id) с помощью <code>tokenize</code>"
   ]
  },
  {
   "cell_type": "code",
   "execution_count": 7,
   "id": "f91e3f6b-45c3-4b06-8204-783702a63dd3",
   "metadata": {},
   "outputs": [
    {
     "name": "stdout",
     "output_type": "stream",
     "text": [
      "['за', '##ме', '##чат', '##ель', '##ны', '##и', 'к', '##рим', '##инал', '##ьны', '##и', 'фильм', '-', 'коме', '##дия', '.', 'по', 'своему', 'вы', '##да', '##ю', '##щи', '##ися', ',', 'места', '##ми', 'за', '##пом', '##ина', '##ю', '##щи', '##ися', ',', 'этот', 'фильм', 'не', 'роман', '##ти', '##зи', '##рует', 'образ', 'пре', '##ступ', '##ников', ',', 'на', '##об', '##орот', 'обл', '##ича', '##ет', ',', 'хот', '##ь', 'и', 'в', 'и', '##рони', '##чно', '##и', 'форме', '.']\n",
      "Token IDs:\n",
      "tensor([[   2, 4589, 6597,  ...,    0,    0,    0],\n",
      "        [   2,  835, 1052,  ...,    0,    0,    0],\n",
      "        [   2,  835, 1052,  ...,    0,    0,    0],\n",
      "        ...,\n",
      "        [   2,  683,  550,  ...,    0,    0,    0],\n",
      "        [   2,   76,  768,  ...,    0,    0,    0],\n",
      "        [   2, 2376,  813,  ...,    0,    0,    0]])\n",
      "Attention masks:\n",
      "tensor([[1, 1, 1,  ..., 0, 0, 0],\n",
      "        [1, 1, 1,  ..., 0, 0, 0],\n",
      "        [1, 1, 1,  ..., 0, 0, 0],\n",
      "        ...,\n",
      "        [1, 1, 1,  ..., 0, 0, 0],\n",
      "        [1, 1, 1,  ..., 0, 0, 0],\n",
      "        [1, 1, 1,  ..., 0, 0, 0]])\n"
     ]
    }
   ],
   "source": [
    "rew = \"Замечательный криминальный фильм-комедия. По своему выдающийся, местами запоминающийся, этот фильм не романтизирует образ преступников, наоборот обличает, хоть и в ироничной форме.\"\n",
    "\n",
    "encoded_dict_rew = tokenizer.encode_plus(\n",
    "    list(rew),                           # Текст для токенизации.\n",
    "    add_special_tokens=True,                   # Добавляем '[CLS]' и '[SEP]'\n",
    "    max_length=64,                             # Дополняем [PAD] или обрезаем текст до 64 токенов.\n",
    "    padding='max_length',\n",
    "    truncation=True,\n",
    "    return_attention_mask=True,                # Возвращаем также attn. masks.\n",
    "    return_tensors='pt',                       # Возвращаем в виде тензоров pytorch.\n",
    ")\n",
    "\n",
    "print(tokenizer.tokenize(rew))\n",
    "print(f'Token IDs:\\n{encoded_dict[\"input_ids\"]}')\n",
    "print(f'Attention masks:\\n{encoded_dict[\"attention_mask\"]}')"
   ]
  },
  {
   "cell_type": "markdown",
   "id": "d91ff223-8a2d-4fdf-87cc-a79d891655b4",
   "metadata": {},
   "source": [
    "<center>[2] 💫</center>"
   ]
  },
  {
   "cell_type": "markdown",
   "id": "24faba97-45cd-4799-9382-c6d3e0205736",
   "metadata": {},
   "source": [
    "<H4>1.2. Загрузчики данных</H4>"
   ]
  },
  {
   "cell_type": "markdown",
   "id": "1c72c87f-cb86-41d1-835e-824ff4125832",
   "metadata": {},
   "source": [
    "Итерироваться по данным для обучения и валидации будем с помощью уже известных нам объектов <code>DataLoader</code>"
   ]
  },
  {
   "cell_type": "markdown",
   "id": "a0e5126e-cc11-42bb-b3a3-c90876a43f12",
   "metadata": {},
   "source": [
    "Для начала соберем наши данные в класс <code>TensorDataset</code>  \n",
    "Нас интересуют закодированные токены, маски внимания (чтобы игнорировать пустые токены) и выходные значения"
   ]
  },
  {
   "cell_type": "code",
   "execution_count": 8,
   "id": "754237df-5260-41bf-921b-9ca410378da1",
   "metadata": {},
   "outputs": [],
   "source": [
    "import torch\n",
    "from torch.utils.data import TensorDataset\n",
    "\n",
    "input_ids = encoded_dict['input_ids']\n",
    "attention_masks = encoded_dict['attention_mask']\n",
    "labels = torch.tensor(labels)\n",
    "\n",
    "dataset = TensorDataset(input_ids, attention_masks, labels)"
   ]
  },
  {
   "cell_type": "markdown",
   "id": "149ccf4e-8208-4dbb-b645-71976cecd5b3",
   "metadata": {},
   "source": [
    "<br>Теперь поделим данные на тренировочные и валидационные в соотношении 90/10"
   ]
  },
  {
   "cell_type": "code",
   "execution_count": 9,
   "id": "c927fa0b-6c4b-4896-98a9-791738a121eb",
   "metadata": {},
   "outputs": [
    {
     "name": "stdout",
     "output_type": "stream",
     "text": [
      "7,695 training samples\n",
      "  856 validation samples\n"
     ]
    }
   ],
   "source": [
    "from torch.utils.data import random_split\n",
    "\n",
    "# Считаем число данных для тренировки и для валидации.\n",
    "train_size = int(0.9 * len(dataset))\n",
    "val_size = len(dataset) - train_size\n",
    "\n",
    "# Разбиваем датасет с учетом посчитанного количества.\n",
    "train_dataset, val_dataset = random_split(dataset, [train_size, val_size])\n",
    "\n",
    "print('{:>5,} training samples'.format(train_size))\n",
    "print('{:>5,} validation samples'.format(val_size))"
   ]
  },
  {
   "cell_type": "markdown",
   "id": "35e6fe9a-37c1-4734-b94c-9f905ec86e61",
   "metadata": {},
   "source": [
    "<br>Создадим свой загрузчик для тренировочного набора"
   ]
  },
  {
   "cell_type": "code",
   "execution_count": 10,
   "id": "f7f8e56d-4a6a-4561-9ffe-ae85b9edb856",
   "metadata": {},
   "outputs": [],
   "source": [
    "from torch.utils.data import DataLoader\n",
    "\n",
    "# Задаем размер батча для тренировки.\n",
    "# Авторы BERT предлагают ставить его 16 или 32. \n",
    "batch_size = 32\n",
    "\n",
    "train_dataloader = DataLoader(\n",
    "        train_dataset,\n",
    "        shuffle=True,              # берем данные в случайном порядке\n",
    "        batch_size = batch_size\n",
    ")"
   ]
  },
  {
   "cell_type": "markdown",
   "id": "faf62443-f7e5-4e57-a353-d2b775d57b9b",
   "metadata": {},
   "source": [
    "<center>[3] ⭐</center>"
   ]
  },
  {
   "cell_type": "markdown",
   "id": "c139d89a-6924-49ad-8327-75befb410ff2",
   "metadata": {},
   "source": [
    "А теперь создайте загрузчик для валидационного набора (назовите переменную <code>validation_dataloader</code>, она понадобится дальше)  \n",
    "Данные должны считываться по порядку, без перемешивания"
   ]
  },
  {
   "cell_type": "code",
   "execution_count": 11,
   "id": "87a67d97-c0e1-4312-ad3e-8434dcd567b7",
   "metadata": {},
   "outputs": [],
   "source": [
    "batch_size = 32\n",
    "\n",
    "validation_dataloader = DataLoader(\n",
    "        val_dataset,\n",
    "        shuffle = False,\n",
    "        batch_size = batch_size\n",
    "   \n",
    ")"
   ]
  },
  {
   "cell_type": "markdown",
   "id": "7366d441-a93f-4aad-a942-ae22c46b3a25",
   "metadata": {},
   "source": [
    "<center>[3] 💫</center>"
   ]
  },
  {
   "cell_type": "markdown",
   "id": "2cb3a123-15fd-45bd-a099-916777f45766",
   "metadata": {},
   "source": [
    "<br>\n",
    "<H3>2. Подготовка модели</H3>"
   ]
  },
  {
   "cell_type": "markdown",
   "id": "e7a1efcc-3033-451e-ab61-8d679b70b47d",
   "metadata": {},
   "source": [
    "Сама модель лежит там же, где и токенизатор - в ./models/rubert-tiny  \n",
    "Мы используем предобученную модель и дообучаем ее на своей задаче"
   ]
  },
  {
   "cell_type": "code",
   "execution_count": 12,
   "id": "b68e1877-b26e-460d-a222-088d9a7452d1",
   "metadata": {},
   "outputs": [],
   "source": [
    "from transformers import BertForSequenceClassification\n",
    "\n",
    "# Загружаем BertForSequenceClassification. Это предобученная модель BERT с одиночным полносвязным слоем для классификации\n",
    "model = BertForSequenceClassification.from_pretrained(\n",
    "    \"./models/rubert-tiny\",                                 # Используем rubert-tiny.\n",
    "    num_labels = 2,                                         # Количество выходных слоёв – 2 для бинарной классификации.\n",
    "    output_attentions = False,                              # Будет ли модель возвращать веса для attention-слоёв. В нашем случае нет.\n",
    "    output_hidden_states = False,                           # Будет ли модель возвращать состояние всех скрытых слоёв. В нашем случае нет.\n",
    ")\n",
    "\n",
    "# При наличии GPU переносим модель туда.\n",
    "if torch.cuda.is_available():\n",
    "    model.cuda()"
   ]
  },
  {
   "cell_type": "markdown",
   "id": "530f3a6a-bfd2-4f2c-8167-977d2e971083",
   "metadata": {},
   "source": [
    "<br>Посмотрим структуру нашей модели"
   ]
  },
  {
   "cell_type": "code",
   "execution_count": 13,
   "id": "aba9e5ca-a512-4113-9bda-4686298c54d3",
   "metadata": {},
   "outputs": [
    {
     "name": "stdout",
     "output_type": "stream",
     "text": [
      "The BERT model has 57 different named parameters.\n",
      "\n",
      "==== Embedding Layer ====\n",
      "\n",
      "bert.embeddings.word_embeddings.weight                  (29564, 312)\n",
      "bert.embeddings.position_embeddings.weight                (512, 312)\n",
      "bert.embeddings.token_type_embeddings.weight                (2, 312)\n",
      "bert.embeddings.LayerNorm.weight                              (312,)\n",
      "bert.embeddings.LayerNorm.bias                                (312,)\n",
      "\n",
      "==== First Transformer ====\n",
      "\n",
      "bert.encoder.layer.0.attention.self.query.weight          (312, 312)\n",
      "bert.encoder.layer.0.attention.self.query.bias                (312,)\n",
      "bert.encoder.layer.0.attention.self.key.weight            (312, 312)\n",
      "bert.encoder.layer.0.attention.self.key.bias                  (312,)\n",
      "bert.encoder.layer.0.attention.self.value.weight          (312, 312)\n",
      "bert.encoder.layer.0.attention.self.value.bias                (312,)\n",
      "bert.encoder.layer.0.attention.output.dense.weight        (312, 312)\n",
      "bert.encoder.layer.0.attention.output.dense.bias              (312,)\n",
      "bert.encoder.layer.0.attention.output.LayerNorm.weight        (312,)\n",
      "bert.encoder.layer.0.attention.output.LayerNorm.bias          (312,)\n",
      "bert.encoder.layer.0.intermediate.dense.weight            (600, 312)\n",
      "bert.encoder.layer.0.intermediate.dense.bias                  (600,)\n",
      "bert.encoder.layer.0.output.dense.weight                  (312, 600)\n",
      "bert.encoder.layer.0.output.dense.bias                        (312,)\n",
      "bert.encoder.layer.0.output.LayerNorm.weight                  (312,)\n",
      "bert.encoder.layer.0.output.LayerNorm.bias                    (312,)\n",
      "\n",
      "==== Output Layer ====\n",
      "\n",
      "bert.pooler.dense.weight                                  (312, 312)\n",
      "bert.pooler.dense.bias                                        (312,)\n",
      "classifier.weight                                           (2, 312)\n",
      "classifier.bias                                                 (2,)\n"
     ]
    }
   ],
   "source": [
    "params = list(model.named_parameters())\n",
    "print('The BERT model has {:} different named parameters.\\n'.format(len(params)))\n",
    "print('==== Embedding Layer ====\\n')\n",
    "for p in params[0:5]:\n",
    "    print(\"{:<55} {:>12}\".format(p[0], str(tuple(p[1].size()))))\n",
    "\n",
    "print('\\n==== First Transformer ====\\n')\n",
    "for p in params[5:21]:\n",
    "    print(\"{:<55} {:>12}\".format(p[0], str(tuple(p[1].size()))))\n",
    "\n",
    "print('\\n==== Output Layer ====\\n')\n",
    "for p in params[-4:]:\n",
    "    print(\"{:<55} {:>12}\".format(p[0], str(tuple(p[1].size()))))"
   ]
  },
  {
   "cell_type": "markdown",
   "id": "4f949033-bb4a-44f5-9553-9c0e7cd0bcc6",
   "metadata": {},
   "source": [
    "<br>  \n",
    "\n",
    "<i>\\- Все понятно?  \n",
    "\\- Нет!  \n",
    "\\- Идем дальше</i>"
   ]
  },
  {
   "cell_type": "markdown",
   "id": "dedce188-0d18-4f7e-99a6-ffa1e9ad561b",
   "metadata": {},
   "source": [
    "Помимо самой модели, нам понадобится оптимизатор и планировщик коэффициента скорости обучения  "
   ]
  },
  {
   "cell_type": "code",
   "execution_count": 15,
   "id": "d7876caa-4386-48f9-a6f4-901de16263a7",
   "metadata": {},
   "outputs": [],
   "source": [
    "from transformers import AdamW, get_linear_schedule_with_warmup\n",
    "\n",
    "# Берем оптимизатор AdamW\n",
    "optimizer = AdamW(model.parameters(), lr = 2e-5, eps = 1e-8)\n",
    "\n",
    "# Количество эпох для тренировки. Авторы BERT рекомендуют от 2 до 4.\n",
    "# Мы выбираем 4, но увидим позже, что это приводит к оверфиту на тренировочные данные.\n",
    "epochs = 4\n",
    "\n",
    "# Общее число шагов тренировки равно [количество батчей] x [число эпох].\n",
    "total_steps = len(train_dataloader) * epochs\n",
    "\n",
    "# Создаем планировщик learning rate (LR). LR будет плавно уменьшаться в процессе тренировки.\n",
    "scheduler = get_linear_schedule_with_warmup(optimizer,\n",
    "                                            num_warmup_steps = 0,\n",
    "                                            num_training_steps = total_steps)"
   ]
  },
  {
   "cell_type": "markdown",
   "id": "cdf12f5e-80f9-4b68-8adc-667754f2d7fe",
   "metadata": {},
   "source": [
    "<br>\n",
    "<H3>3. Обучение модели</H3>"
   ]
  },
  {
   "cell_type": "markdown",
   "id": "9fd19c11-7e27-43d9-b8ca-d0c41c09eb61",
   "metadata": {},
   "source": [
    "Определим, на каком устройстве нам нужны входные данные для модели: GPU или CPU"
   ]
  },
  {
   "cell_type": "code",
   "execution_count": 16,
   "id": "0d272f99-e2c4-4e79-9941-c5410e0e8f10",
   "metadata": {},
   "outputs": [
    {
     "data": {
      "text/plain": [
       "device(type='cpu')"
      ]
     },
     "execution_count": 16,
     "metadata": {},
     "output_type": "execute_result"
    }
   ],
   "source": [
    "device = torch.device(\"cuda\") if torch.cuda.is_available() else torch.device(\"cpu\")\n",
    "device"
   ]
  },
  {
   "cell_type": "markdown",
   "id": "57311f2e-8366-4302-bab2-a585c3a44141",
   "metadata": {},
   "source": [
    "<br>Добавим пару вспомогательных функций"
   ]
  },
  {
   "cell_type": "code",
   "execution_count": 17,
   "id": "b188600c-aaa2-4925-94c8-fd6e23836b47",
   "metadata": {},
   "outputs": [],
   "source": [
    "import numpy as np\n",
    "\n",
    "# Функция для расчёта точности. Сравниваются предсказания и реальная разметка к данным\n",
    "def flat_accuracy(preds, labels):\n",
    "    pred_flat = np.argmax(preds, axis=1).flatten()\n",
    "    labels_flat = labels.flatten()\n",
    "    return np.sum(pred_flat == labels_flat) / len(labels_flat)\n",
    "\n",
    "\n",
    "import time\n",
    "import datetime\n",
    "import random \n",
    "\n",
    "# Функция переводит время в секундах в формат hh:mm:ss\n",
    "def format_time(elapsed):\n",
    "    # Округляем до ближайшей секунды.\n",
    "    elapsed_rounded = int(round((elapsed)))\n",
    "\n",
    "    # Форматируем как hh:mm:ss\n",
    "    return str(datetime.timedelta(seconds=elapsed_rounded))"
   ]
  },
  {
   "cell_type": "markdown",
   "id": "5720c9a9-0b5d-4460-87c5-ae16082150a5",
   "metadata": {},
   "source": [
    "<br>Теперь функция обучения (для одной эпохи)"
   ]
  },
  {
   "cell_type": "code",
   "execution_count": 18,
   "id": "59d06432-54ab-4613-a90a-e66a56805947",
   "metadata": {},
   "outputs": [],
   "source": [
    "def train_step(\n",
    "        device,               # Устройство для вычислений\n",
    "        model,                # Модель (в нашем случае rubert-tiny)\n",
    "        train_dataloader,     # Загрузчик тренировочных данных\n",
    "        optimizer,            # Оптимизатор (в нашем случае AdamW)\n",
    "        scheduler             # Планировщик коэффициента скорости обучения\n",
    "):\n",
    "    t0 = time.time()\n",
    "    total_train_loss = 0\n",
    "\n",
    "    model.train()     # Переводим модель в режим тренировки\n",
    "\n",
    "    # Итерируемся по батчам из тренировочных данных\n",
    "    for step, batch in enumerate(train_dataloader):\n",
    "        \n",
    "        # Выводим прогресс каждый 10й батч для удобства\n",
    "        if step % 10 == 0 and not step == 0:\n",
    "            elapsed = format_time(time.time() - t0)\n",
    "            print('  Batch {:>5,}  of  {:>5,}.    Elapsed: {:}.'.format(step, len(train_dataloader), elapsed))\n",
    "\n",
    "        # Извлекаем все компоненты из полученного батча\n",
    "        b_input_ids, b_input_mask, b_labels = batch[0].to(device), batch[1].to(device), batch[2].to(device)\n",
    "        \n",
    "        # Очищаем все ранее посчитанные градиенты (это важно)\n",
    "        model.zero_grad()\n",
    "        \n",
    "        # Выполняем прямой проход по данным\n",
    "        out = model(b_input_ids, token_type_ids=None, attention_mask=b_input_mask, labels=b_labels)\n",
    "        loss = out.loss\n",
    "        logits = out.logits\n",
    "        \n",
    "        # Накапливаем тренировочную функцию потерь по всем батчам\n",
    "        total_train_loss += loss.item()\n",
    "        \n",
    "        # Выполняем обратное распространение ошибки, чтобы посчитать градиенты.\n",
    "        loss.backward()\n",
    "        \n",
    "        # Ограничиваем максимальный размер градиента до 1.0. Это позволяет избежать проблемы \"exploding gradients\".\n",
    "        torch.nn.utils.clip_grad_norm_(model.parameters(), 1.0)\n",
    "        \n",
    "        # Обновляем параметры модели, используя рассчитанные градиенты с помощью выбранного оптимизатора и текущего learning rate.\n",
    "        optimizer.step()\n",
    "        \n",
    "        # Обновляем learning rate.\n",
    "        scheduler.step()\n",
    "\n",
    "    # Считаем среднее значение функции потерь по всем батчам.\n",
    "    avg_train_loss = total_train_loss / len(train_dataloader)\n",
    "    \n",
    "    # Сохраняем время тренировки одной эпохи.\n",
    "    training_time = format_time(time.time() - t0)\n",
    "    print(\"  Average training loss: {0:.2f}\".format(avg_train_loss))\n",
    "    print(\"  Training epoсh took: {:}\".format(training_time))\n",
    "    return avg_train_loss, training_time"
   ]
  },
  {
   "cell_type": "markdown",
   "id": "9624f6cb-818f-4380-858b-9a37b5f89f42",
   "metadata": {},
   "source": [
    "<br>И функция валидации "
   ]
  },
  {
   "cell_type": "code",
   "execution_count": 19,
   "id": "00f99c22-e0e2-4eb9-a5c3-91a9a77bcfdb",
   "metadata": {},
   "outputs": [],
   "source": [
    "def validation_step(\n",
    "        device,                  # Устройство для вычислений\n",
    "        model,                   # Модель (в нашем случае rubert-tiny)\n",
    "        validation_dataloader    # Планировщик коэффициента скорости обучения\n",
    "):\n",
    "    print(\"Running Validation...\")\n",
    "    t0 = time.time()\n",
    "    \n",
    "    # Переводим модель в режим evaluation: некоторые слои, например dropout, ведут себя по-другому.\n",
    "    model.eval()\n",
    "\n",
    "    # Переменные для подсчёта функции потерь и точности\n",
    "    total_eval_accuracy = 0\n",
    "    total_eval_loss = 0\n",
    "    \n",
    "    # Прогоняем все данные из валидации\n",
    "    for step, batch in enumerate(validation_dataloader):\n",
    "\n",
    "        # Выводим прогресс каждый 10й батч для удобства\n",
    "        if step % 10 == 0 and not step == 0:\n",
    "            elapsed = format_time(time.time() - t0)\n",
    "            print('  Batch {:>5,}  of  {:>5,}.    Elapsed: {:}.'.format(step, len(validation_dataloader), elapsed))\n",
    "\n",
    "        # Извлекаем все компоненты из полученного батча.\n",
    "        b_input_ids, b_input_mask, b_labels = batch[0].to(device), batch[1].to(device), batch[2].to(device)\n",
    "\n",
    "        # Говорим pytorch, что нам не нужен вычислительный граф для подсчёта градиентов (всё будет работать намного быстрее)\n",
    "        with torch.no_grad():\n",
    "            # Прямой проход по нейронной сети и получение выходных значений.\n",
    "            out = model(b_input_ids, token_type_ids=None, attention_mask=b_input_mask, labels=b_labels)\n",
    "            loss = out.loss\n",
    "            logits = out.logits\n",
    "\n",
    "        # Накапливаем значение функции потерь для валидации.\n",
    "        total_eval_loss += loss.item()\n",
    "\n",
    "        # Переносим значения с GPU на CPU\n",
    "        logits = logits.detach().cpu().numpy()\n",
    "        label_ids = b_labels.to('cpu').numpy()\n",
    "\n",
    "        # Считаем точность для отдельного батча с текстами и накапливаем значения.\n",
    "        total_eval_accuracy += flat_accuracy(logits, label_ids)\n",
    "\n",
    "    # Выводим точность для всех валидационных данных.\n",
    "    avg_val_accuracy = total_eval_accuracy / len(validation_dataloader)\n",
    "    print(\"  Accuracy: {0:.2f}\".format(avg_val_accuracy))\n",
    "\n",
    "    # Считаем среднюю функцию потерь для всех батчей.\n",
    "    avg_val_loss = total_eval_loss / len(validation_dataloader)\n",
    "    \n",
    "    # Измеряем, как долго считалась валидация.\n",
    "    validation_time = format_time(time.time() - t0)\n",
    "    print(\"  Validation Loss: {0:.2f}\".format(avg_val_loss))\n",
    "    print(\"  Validation took: {:}\".format(validation_time))\n",
    "    return avg_val_loss, avg_val_accuracy, validation_time"
   ]
  },
  {
   "cell_type": "markdown",
   "id": "56e4112d-6a6e-4b2c-92d9-11c92bc45d48",
   "metadata": {},
   "source": [
    "<center>[4] ⭐⭐</center>"
   ]
  },
  {
   "cell_type": "markdown",
   "id": "c9dd0dab-85a3-4dd8-ab7c-0e9dec10e8eb",
   "metadata": {},
   "source": [
    "Используя функции <code>train_step</code> и <code>validation_step</code>, реализуйте цикл обучения модели  \n",
    "Количество итераций хранится в переменной <code>epochs</code>  \n",
    "Для удобства на каждой эпохе сделайте вывод ее номера\n",
    "\n",
    "<i>Прим.: ваша главная задача здесь - внимательно посмотреть на аргументы обеих функций и понять, какие значения им передать  \n",
    "Все эти значения уже хранятся в переменных, никаких дополнительных вычислений не нужно</i>"
   ]
  },
  {
   "cell_type": "code",
   "execution_count": 20,
   "id": "05d7d231-35a2-4d4b-853d-b4490dcac804",
   "metadata": {},
   "outputs": [
    {
     "name": "stdout",
     "output_type": "stream",
     "text": [
      "  Batch    10  of    241.    Elapsed: 0:00:11.\n",
      "  Batch    20  of    241.    Elapsed: 0:00:19.\n",
      "  Batch    30  of    241.    Elapsed: 0:00:28.\n",
      "  Batch    40  of    241.    Elapsed: 0:00:36.\n",
      "  Batch    50  of    241.    Elapsed: 0:00:46.\n",
      "  Batch    60  of    241.    Elapsed: 0:00:55.\n",
      "  Batch    70  of    241.    Elapsed: 0:01:05.\n",
      "  Batch    80  of    241.    Elapsed: 0:01:16.\n",
      "  Batch    90  of    241.    Elapsed: 0:01:26.\n",
      "  Batch   100  of    241.    Elapsed: 0:01:36.\n",
      "  Batch   110  of    241.    Elapsed: 0:01:46.\n",
      "  Batch   120  of    241.    Elapsed: 0:01:57.\n",
      "  Batch   130  of    241.    Elapsed: 0:02:07.\n",
      "  Batch   140  of    241.    Elapsed: 0:02:17.\n",
      "  Batch   150  of    241.    Elapsed: 0:02:27.\n",
      "  Batch   160  of    241.    Elapsed: 0:02:38.\n",
      "  Batch   170  of    241.    Elapsed: 0:02:48.\n",
      "  Batch   180  of    241.    Elapsed: 0:02:57.\n",
      "  Batch   190  of    241.    Elapsed: 0:03:06.\n",
      "  Batch   200  of    241.    Elapsed: 0:03:15.\n",
      "  Batch   210  of    241.    Elapsed: 0:03:25.\n",
      "  Batch   220  of    241.    Elapsed: 0:03:33.\n",
      "  Batch   230  of    241.    Elapsed: 0:03:42.\n",
      "  Batch   240  of    241.    Elapsed: 0:03:51.\n",
      "  Average training loss: 0.61\n",
      "  Training epoсh took: 0:03:52\n",
      "Running Validation...\n",
      "  Batch    10  of     27.    Elapsed: 0:00:04.\n",
      "  Batch    20  of     27.    Elapsed: 0:00:08.\n",
      "  Accuracy: 0.68\n",
      "  Validation Loss: 0.64\n",
      "  Validation took: 0:00:11\n",
      "1\n",
      "  Batch    10  of    241.    Elapsed: 0:00:09.\n",
      "  Batch    20  of    241.    Elapsed: 0:00:18.\n",
      "  Batch    30  of    241.    Elapsed: 0:00:27.\n",
      "  Batch    40  of    241.    Elapsed: 0:00:36.\n",
      "  Batch    50  of    241.    Elapsed: 0:00:46.\n",
      "  Batch    60  of    241.    Elapsed: 0:00:55.\n",
      "  Batch    70  of    241.    Elapsed: 0:01:04.\n",
      "  Batch    80  of    241.    Elapsed: 0:01:13.\n",
      "  Batch    90  of    241.    Elapsed: 0:01:22.\n",
      "  Batch   100  of    241.    Elapsed: 0:01:30.\n",
      "  Batch   110  of    241.    Elapsed: 0:01:39.\n",
      "  Batch   120  of    241.    Elapsed: 0:01:48.\n",
      "  Batch   130  of    241.    Elapsed: 0:01:57.\n",
      "  Batch   140  of    241.    Elapsed: 0:02:07.\n",
      "  Batch   150  of    241.    Elapsed: 0:02:17.\n",
      "  Batch   160  of    241.    Elapsed: 0:02:27.\n",
      "  Batch   170  of    241.    Elapsed: 0:02:37.\n",
      "  Batch   180  of    241.    Elapsed: 0:02:47.\n",
      "  Batch   190  of    241.    Elapsed: 0:02:57.\n",
      "  Batch   200  of    241.    Elapsed: 0:03:07.\n",
      "  Batch   210  of    241.    Elapsed: 0:03:17.\n",
      "  Batch   220  of    241.    Elapsed: 0:03:27.\n",
      "  Batch   230  of    241.    Elapsed: 0:03:37.\n",
      "  Batch   240  of    241.    Elapsed: 0:03:47.\n",
      "  Average training loss: 0.60\n",
      "  Training epoсh took: 0:03:47\n",
      "Running Validation...\n",
      "  Batch    10  of     27.    Elapsed: 0:00:05.\n",
      "  Batch    20  of     27.    Elapsed: 0:00:09.\n",
      "  Accuracy: 0.68\n",
      "  Validation Loss: 0.63\n",
      "  Validation took: 0:00:12\n",
      "1\n",
      "  Batch    10  of    241.    Elapsed: 0:00:10.\n",
      "  Batch    20  of    241.    Elapsed: 0:00:20.\n",
      "  Batch    30  of    241.    Elapsed: 0:00:30.\n",
      "  Batch    40  of    241.    Elapsed: 0:00:39.\n",
      "  Batch    50  of    241.    Elapsed: 0:00:49.\n",
      "  Batch    60  of    241.    Elapsed: 0:00:59.\n",
      "  Batch    70  of    241.    Elapsed: 0:01:09.\n",
      "  Batch    80  of    241.    Elapsed: 0:01:18.\n",
      "  Batch    90  of    241.    Elapsed: 0:01:29.\n",
      "  Batch   100  of    241.    Elapsed: 0:01:40.\n",
      "  Batch   110  of    241.    Elapsed: 0:01:50.\n",
      "  Batch   120  of    241.    Elapsed: 0:01:59.\n",
      "  Batch   130  of    241.    Elapsed: 0:02:09.\n",
      "  Batch   140  of    241.    Elapsed: 0:02:19.\n",
      "  Batch   150  of    241.    Elapsed: 0:02:29.\n",
      "  Batch   160  of    241.    Elapsed: 0:02:38.\n",
      "  Batch   170  of    241.    Elapsed: 0:02:48.\n",
      "  Batch   180  of    241.    Elapsed: 0:02:59.\n",
      "  Batch   190  of    241.    Elapsed: 0:03:12.\n",
      "  Batch   200  of    241.    Elapsed: 0:03:23.\n",
      "  Batch   210  of    241.    Elapsed: 0:03:32.\n",
      "  Batch   220  of    241.    Elapsed: 0:03:43.\n",
      "  Batch   230  of    241.    Elapsed: 0:03:57.\n",
      "  Batch   240  of    241.    Elapsed: 0:04:07.\n",
      "  Average training loss: 0.59\n",
      "  Training epoсh took: 0:04:08\n",
      "Running Validation...\n",
      "  Batch    10  of     27.    Elapsed: 0:00:04.\n",
      "  Batch    20  of     27.    Elapsed: 0:00:08.\n",
      "  Accuracy: 0.68\n",
      "  Validation Loss: 0.63\n",
      "  Validation took: 0:00:11\n",
      "1\n",
      "  Batch    10  of    241.    Elapsed: 0:00:09.\n",
      "  Batch    20  of    241.    Elapsed: 0:00:18.\n",
      "  Batch    30  of    241.    Elapsed: 0:00:27.\n",
      "  Batch    40  of    241.    Elapsed: 0:00:36.\n",
      "  Batch    50  of    241.    Elapsed: 0:00:45.\n",
      "  Batch    60  of    241.    Elapsed: 0:00:54.\n",
      "  Batch    70  of    241.    Elapsed: 0:01:03.\n",
      "  Batch    80  of    241.    Elapsed: 0:01:11.\n",
      "  Batch    90  of    241.    Elapsed: 0:01:21.\n",
      "  Batch   100  of    241.    Elapsed: 0:01:29.\n",
      "  Batch   110  of    241.    Elapsed: 0:01:38.\n",
      "  Batch   120  of    241.    Elapsed: 0:01:47.\n",
      "  Batch   130  of    241.    Elapsed: 0:01:56.\n",
      "  Batch   140  of    241.    Elapsed: 0:02:05.\n",
      "  Batch   150  of    241.    Elapsed: 0:02:14.\n",
      "  Batch   160  of    241.    Elapsed: 0:02:23.\n",
      "  Batch   170  of    241.    Elapsed: 0:02:32.\n",
      "  Batch   180  of    241.    Elapsed: 0:02:41.\n",
      "  Batch   190  of    241.    Elapsed: 0:02:50.\n",
      "  Batch   200  of    241.    Elapsed: 0:03:00.\n",
      "  Batch   210  of    241.    Elapsed: 0:03:10.\n",
      "  Batch   220  of    241.    Elapsed: 0:03:19.\n",
      "  Batch   230  of    241.    Elapsed: 0:03:28.\n",
      "  Batch   240  of    241.    Elapsed: 0:03:37.\n",
      "  Average training loss: 0.59\n",
      "  Training epoсh took: 0:03:38\n",
      "Running Validation...\n",
      "  Batch    10  of     27.    Elapsed: 0:00:04.\n",
      "  Batch    20  of     27.    Elapsed: 0:00:08.\n",
      "  Accuracy: 0.68\n",
      "  Validation Loss: 0.63\n",
      "  Validation took: 0:00:11\n",
      "1\n"
     ]
    }
   ],
   "source": [
    "epochs = 0\n",
    "for i in range(4):\n",
    "    epochs = 1\n",
    "    i\n",
    "    train_step(device, model, train_dataloader, optimizer, scheduler)\n",
    "    validation_step(device, model, validation_dataloader)\n",
    "    print(epochs)"
   ]
  },
  {
   "cell_type": "markdown",
   "id": "30cae0c0-adda-47d2-86e8-7375ba341a08",
   "metadata": {},
   "source": [
    "<center>[4] 💫</center>"
   ]
  },
  {
   "cell_type": "markdown",
   "id": "932be48f-0a83-4bcd-8b6c-e3399a6b0793",
   "metadata": {},
   "source": [
    "<H3>4. Сохранение</H3>"
   ]
  },
  {
   "cell_type": "markdown",
   "id": "8bea5f56-51e5-49dc-83be-79d008496dd1",
   "metadata": {},
   "source": [
    "Давайте теперь вернемся немного назад и вспомним, что мы использовали <i>предобученную</i> модель  \n",
    "Это значит, что ее уже обучали ранее, получили определенные значения параметров и записали их, а мы их считали и использовали"
   ]
  },
  {
   "cell_type": "markdown",
   "id": "f7db7904-3cbf-4749-af6e-1947f2648618",
   "metadata": {},
   "source": [
    "Нашу модель с новыми параметрами, измененными в процессе дообучения, также можно сохранить  \n",
    "Тогда в следующий раз мы сможем ее считать и использовать, не обучая заново"
   ]
  },
  {
   "cell_type": "code",
   "execution_count": 21,
   "id": "ade7ae33-aeb8-45c1-a84f-5a3ce0102d83",
   "metadata": {},
   "outputs": [
    {
     "name": "stdout",
     "output_type": "stream",
     "text": [
      "Saving model to ./models/rubert-tiny-trained\n"
     ]
    },
    {
     "data": {
      "text/plain": [
       "('./models/rubert-tiny-trained\\\\tokenizer_config.json',\n",
       " './models/rubert-tiny-trained\\\\special_tokens_map.json',\n",
       " './models/rubert-tiny-trained\\\\vocab.txt',\n",
       " './models/rubert-tiny-trained\\\\added_tokens.json')"
      ]
     },
     "execution_count": 21,
     "metadata": {},
     "output_type": "execute_result"
    }
   ],
   "source": [
    "import os\n",
    "\n",
    "# Задаем директорию модели\n",
    "model_dir = './models/rubert-tiny-trained'\n",
    "# Если она не существует создаем её\n",
    "if not os.path.exists(model_dir):\n",
    "    os.makedirs(model_dir)\n",
    "\n",
    "print(\"Saving model to %s\" % model_dir)\n",
    "\n",
    "# Сохраняем натренированную модель и её токенайзер.\n",
    "model_to_save = model.module if hasattr(model, 'module') else model\n",
    "model_to_save.save_pretrained(model_dir)\n",
    "tokenizer.save_pretrained(model_dir)"
   ]
  },
  {
   "cell_type": "markdown",
   "id": "6c866266-1239-4db7-ad86-646c49ee33e4",
   "metadata": {},
   "source": [
    "<center>[5] ⭐⭐⭐</center>"
   ]
  },
  {
   "cell_type": "markdown",
   "id": "cffe08b4-0e5f-457f-9ba4-9ad9efa50149",
   "metadata": {},
   "source": [
    "Загрузите заново сохраненную модель, примените ее к датасету CoLA и посчитайте метрику accuracy"
   ]
  },
  {
   "cell_type": "code",
   "execution_count": 22,
   "id": "fe1af55c-8f3f-4f76-bcf7-8704b555f39a",
   "metadata": {},
   "outputs": [
    {
     "name": "stdout",
     "output_type": "stream",
     "text": [
      "Running Validation...\n",
      "  Batch    10  of    268.    Elapsed: 0:00:04.\n",
      "  Batch    20  of    268.    Elapsed: 0:00:08.\n",
      "  Batch    30  of    268.    Elapsed: 0:00:12.\n",
      "  Batch    40  of    268.    Elapsed: 0:00:15.\n",
      "  Batch    50  of    268.    Elapsed: 0:00:19.\n",
      "  Batch    60  of    268.    Elapsed: 0:00:22.\n",
      "  Batch    70  of    268.    Elapsed: 0:00:26.\n",
      "  Batch    80  of    268.    Elapsed: 0:00:33.\n",
      "  Batch    90  of    268.    Elapsed: 0:00:37.\n",
      "  Batch   100  of    268.    Elapsed: 0:00:42.\n",
      "  Batch   110  of    268.    Elapsed: 0:00:47.\n",
      "  Batch   120  of    268.    Elapsed: 0:00:51.\n",
      "  Batch   130  of    268.    Elapsed: 0:00:56.\n",
      "  Batch   140  of    268.    Elapsed: 0:01:00.\n",
      "  Batch   150  of    268.    Elapsed: 0:01:04.\n",
      "  Batch   160  of    268.    Elapsed: 0:01:08.\n",
      "  Batch   170  of    268.    Elapsed: 0:01:13.\n",
      "  Batch   180  of    268.    Elapsed: 0:01:16.\n",
      "  Batch   190  of    268.    Elapsed: 0:01:20.\n",
      "  Batch   200  of    268.    Elapsed: 0:01:24.\n",
      "  Batch   210  of    268.    Elapsed: 0:01:28.\n",
      "  Batch   220  of    268.    Elapsed: 0:01:32.\n",
      "  Batch   230  of    268.    Elapsed: 0:01:36.\n",
      "  Batch   240  of    268.    Elapsed: 0:01:40.\n",
      "  Batch   250  of    268.    Elapsed: 0:01:44.\n",
      "  Batch   260  of    268.    Elapsed: 0:01:48.\n",
      "  Accuracy: 0.70\n",
      "  Validation Loss: 0.59\n",
      "  Validation took: 0:01:51\n"
     ]
    },
    {
     "data": {
      "text/plain": [
       "(0.5906370555731788, 0.7039745469083156, '0:01:51')"
      ]
     },
     "execution_count": 22,
     "metadata": {},
     "output_type": "execute_result"
    }
   ],
   "source": [
    "import numpy as np\n",
    "from sklearn.metrics import accuracy_score\n",
    "\n",
    "model = BertForSequenceClassification.from_pretrained(\n",
    "    \"./models/rubert-tiny-trained\",                                 # Используем rubert-tiny.\n",
    "    num_labels = 2,                                         # Количество выходных слоёв – 2 для бинарной классификации.\n",
    "    output_attentions = False,                              # Будет ли модель возвращать веса для attention-слоёв. В нашем случае нет.\n",
    "    output_hidden_states = False,                           # Будет ли модель возвращать состояние всех скрытых слоёв. В нашем случае нет.\n",
    ")\n",
    "\n",
    "df = pd.read_csv(\"./data/cola_public/raw/in_domain_train.tsv\", delimiter='\\t', header=None, names=['sentence_source', 'label', 'label_notes', 'sentence'])\n",
    "\n",
    "sentences = df['sentence'].values\n",
    "labels = df['label'].values\n",
    "\n",
    "encoded_dict_rew = tokenizer.batch_encode_plus(\n",
    "    list(rew),                           # Текст для токенизации.\n",
    "    add_special_tokens=True,                   # Добавляем '[CLS]' и '[SEP]'\n",
    "    max_length=64,                             # Дополняем [PAD] или обрезаем текст до 64 токенов.\n",
    "    padding='max_length',\n",
    "    truncation=True,\n",
    "    return_attention_mask=True,                # Возвращаем также attn. masks.\n",
    "    return_tensors='pt',                       # Возвращаем в виде тензоров pytorch.\n",
    ")\n",
    "\n",
    "input_ids = encoded_dict['input_ids']\n",
    "attention_masks = encoded_dict['attention_mask']\n",
    "labels = torch.tensor(labels)\n",
    "\n",
    "dataset_val1 = TensorDataset(input_ids, attention_masks, labels)\n",
    "validation_dataloader1 = DataLoader(dataset_val1, shuffle=False, batch_size = batch_size)\n",
    "\n",
    "validation_step(device, model, validation_dataloader1)"
   ]
  },
  {
   "cell_type": "markdown",
   "id": "6448c6ae-3194-45e3-b2f3-7a4aaaf90539",
   "metadata": {},
   "source": [
    "<center>[5] 💫</center>"
   ]
  },
  {
   "cell_type": "markdown",
   "id": "7e5c55f6-f4dc-46e2-b14c-56752a930922",
   "metadata": {},
   "source": [
    "<H2>Задание на лабораторную работу</H2>"
   ]
  },
  {
   "cell_type": "markdown",
   "id": "4fe04169-8116-4cd4-9a0d-a1b1d5b7577c",
   "metadata": {},
   "source": [
    "<b>1. Подготовить для обучения датасет с отзывами на фильмы (./data/train.csv)\n",
    "\n",
    "Прим.:\n",
    "- В примере используется таблица с разделителем <code>\\t</code>, здесь разделитель <code>,</code>\n",
    "- Значения <code>label</code> придется преобразовать к числовому виду с помощью <code>LabelEncoder</code> (см. предыдущую лабораторную работу)\n",
    "\n",
    "<b>2. Обучить rubert-tiny или другую нейронную сеть для обработки естественного языка определять тип отзыва (позитивный или негативный)  \n",
    "<b>3. Применить обученную нейросеть к тестовым данным (./data/test.csv)\n",
    "\n",
    "Прим.:\n",
    "- Для тестовых данных нужно будет создать новый <code>TensorDataset</code> и <code>DataLoader</code> без <code>label</code>\n",
    "- Для вычисления выходных значений на тестовых данных понадобится новая функция (используйте в качестве примера функцию валидации)\n",
    "\n",
    "<b>4. Записать результат и отправить боту\n",
    "\n",
    "Прим.:\n",
    "- Используйте пример ./data/sample_submission.csv\n",
    "- Обратите внимание, что модель выдаст для каждого отзыва 2 значения - его принадлежность к классам \"позитивный\" и \"негативный\" в отдельности; вам нужно преобразовать их в одно"
   ]
  },
  {
   "cell_type": "markdown",
   "id": "895a7e45-9821-4270-9ec5-4f311eb5e50f",
   "metadata": {},
   "source": [
    "<b>Максимальная оценка за защиту лабораторной работы зависит от эффективности обучения:\n",
    "- топ-5 в рейтинге группы и score>0.55 - 10 баллов\n",
    "- топ-10 в рейтинге группы и score>0.4 - 8 баллов\n",
    "- score>0.2 - 5 баллов"
   ]
  },
  {
   "cell_type": "markdown",
   "id": "a3309ff8-b6f1-46f7-9209-eea68c4b94fd",
   "metadata": {},
   "source": [
    "<i>Прим.: место в рейтинге считается на момент сдачи  \n",
    "Думайте =)</i>"
   ]
  }
 ],
 "metadata": {
  "kernelspec": {
   "display_name": "Python 3 (ipykernel)",
   "language": "python",
   "name": "python3"
  },
  "language_info": {
   "codemirror_mode": {
    "name": "ipython",
    "version": 3
   },
   "file_extension": ".py",
   "mimetype": "text/x-python",
   "name": "python",
   "nbconvert_exporter": "python",
   "pygments_lexer": "ipython3",
   "version": "3.8.17"
  }
 },
 "nbformat": 4,
 "nbformat_minor": 5
}
